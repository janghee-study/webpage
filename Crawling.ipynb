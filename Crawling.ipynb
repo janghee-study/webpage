{
 "cells": [
  {
   "cell_type": "code",
   "execution_count": 1,
   "metadata": {},
   "outputs": [],
   "source": [
    "import pandas as pd\n",
    "import numpy as np\n",
    "from bs4 import BeautifulSoup"
   ]
  },
  {
   "cell_type": "code",
   "execution_count": 2,
   "metadata": {},
   "outputs": [],
   "source": [
    "from selenium import webdriver"
   ]
  },
  {
   "cell_type": "code",
   "execution_count": 3,
   "metadata": {},
   "outputs": [],
   "source": [
    "driver = webdriver.Chrome('./chromedriver.exe')"
   ]
  },
  {
   "cell_type": "code",
   "execution_count": 4,
   "metadata": {},
   "outputs": [],
   "source": [
    "driver.get(\"https://datalab.naver.com/keyword/realtimeList.naver?where=main\")"
   ]
  },
  {
   "cell_type": "code",
   "execution_count": 5,
   "metadata": {},
   "outputs": [],
   "source": [
    "page = driver.page_source"
   ]
  },
  {
   "cell_type": "code",
   "execution_count": 6,
   "metadata": {
    "scrolled": true
   },
   "outputs": [],
   "source": [
    "soup = BeautifulSoup(page,'html')\n",
    "#soup"
   ]
  },
  {
   "cell_type": "code",
   "execution_count": 7,
   "metadata": {},
   "outputs": [
    {
     "data": {
      "text/plain": [
       "[<strong class=\"item_title\">이슈별 묶어보기</strong>,\n",
       " <strong class=\"item_title\">이벤트・할인</strong>,\n",
       " <strong class=\"item_title\">시사</strong>,\n",
       " <strong class=\"item_title\">엔터</strong>,\n",
       " <strong class=\"item_title\">스포츠</strong>,\n",
       " <span class=\"item_title\">드랙</span>,\n",
       " <span class=\"item_title\">정은지</span>,\n",
       " <span class=\"item_title\">개딸 뜻</span>,\n",
       " <span class=\"item_title\">포항 코로나</span>,\n",
       " <span class=\"item_title\">심권호</span>,\n",
       " <span class=\"item_title\">고은아</span>,\n",
       " <span class=\"item_title\">소리바다 어워즈</span>,\n",
       " <span class=\"item_title\">김창숙나이</span>,\n",
       " <span class=\"item_title\">사랑의 재개발</span>,\n",
       " <span class=\"item_title\">응답하라 1997</span>,\n",
       " <span class=\"item_title\">태안 코로나</span>,\n",
       " <span class=\"item_title\">순간포착 세상에 이런일이</span>,\n",
       " <span class=\"item_title\">하늘바라기</span>,\n",
       " <span class=\"item_title\">미녀삼총사</span>,\n",
       " <span class=\"item_title\">드랙메이크업</span>,\n",
       " <span class=\"item_title\">오승환</span>,\n",
       " <span class=\"item_title\">기안84</span>,\n",
       " <span class=\"item_title\">신민혁</span>,\n",
       " <span class=\"item_title\">홍성민</span>,\n",
       " <span class=\"item_title\">목요일 예능</span>]"
      ]
     },
     "execution_count": 7,
     "metadata": {},
     "output_type": "execute_result"
    }
   ],
   "source": [
    "rank = soup.find_all(class_='item_title')\n",
    "naver_rank=list()\n",
    "rank"
   ]
  },
  {
   "cell_type": "code",
   "execution_count": 8,
   "metadata": {},
   "outputs": [
    {
     "name": "stdout",
     "output_type": "stream",
     "text": [
      "['드랙', '정은지', '개딸 뜻', '포항 코로나', '심권호', '고은아', '소리바다 어워즈', '김창숙나이', '사랑의 재개발', '응답하라 1997', '태안 코로나', '순간포착 세상에 이런일이', '하늘바라기', '미녀삼총사', '드랙메이크업']\n"
     ]
    }
   ],
   "source": [
    "for i in range(5,20,1):\n",
    "    naver_rank.append(rank[i].string)\n",
    "    \n",
    "print(naver_rank)"
   ]
  },
  {
   "cell_type": "code",
   "execution_count": 9,
   "metadata": {},
   "outputs": [],
   "source": [
    "driver.get(\"https://trends.google.co.kr/trends/trendingsearches/daily?geo=KR\")"
   ]
  },
  {
   "cell_type": "code",
   "execution_count": 10,
   "metadata": {},
   "outputs": [],
   "source": [
    "page = driver.page_source"
   ]
  },
  {
   "cell_type": "code",
   "execution_count": 11,
   "metadata": {
    "scrolled": true
   },
   "outputs": [],
   "source": [
    "soup = BeautifulSoup(page,'html')\n",
    "#soup"
   ]
  },
  {
   "cell_type": "code",
   "execution_count": 12,
   "metadata": {
    "scrolled": true
   },
   "outputs": [
    {
     "data": {
      "text/plain": [
       "[<span>인기 검색어</span>,\n",
       " <span><div class=\"_md-text\">\n",
       "       대한민국\n",
       "     </div></span>,\n",
       " <span ng-repeat=\"titlePart in titleArray\">\n",
       " <a href=\"/trends/explore?q=%EA%B8%B0%EC%95%8884&amp;date=now+7-d&amp;geo=KR\" ng-attr-title=\"{{::titlePart.hoverMessage}}\" ng-href=\"/trends/explore?q=%EA%B8%B0%EC%95%8884&amp;date=now+7-d&amp;geo=KR\" title=\"기안84 탐색\" track=\"['Trending Searches ' + ctrl.currentFeedItemType, 'click', 'item title: ' + titlePart.text]\">\n",
       "                 기안84\n",
       "               </a>\n",
       " <!-- -->\n",
       " </span>,\n",
       " <span ng-class=\"::{'rtl-in-ltr': ctrl.isArticleSourceRtlInLtrPage}\">\n",
       "                 경향신문\n",
       "               </span>,\n",
       " <span ng-class=\"::{'rtl-in-ltr': ctrl.isArticleTimeAgoRtlInLtrPage}\">\n",
       "                 5시간 전\n",
       "               </span>,\n",
       " <span ng-repeat=\"titlePart in titleArray\">\n",
       " <a href=\"/trends/explore?q=%EC%97%90%ED%94%BD%EA%B2%8C%EC%9E%84%EC%A6%88&amp;date=now+7-d&amp;geo=KR\" ng-attr-title=\"{{::titlePart.hoverMessage}}\" ng-href=\"/trends/explore?q=%EC%97%90%ED%94%BD%EA%B2%8C%EC%9E%84%EC%A6%88&amp;date=now+7-d&amp;geo=KR\" title=\"에픽게임즈 탐색\" track=\"['Trending Searches ' + ctrl.currentFeedItemType, 'click', 'item title: ' + titlePart.text]\">\n",
       "                 에픽게임즈\n",
       "               </a>\n",
       " <!-- -->\n",
       " </span>,\n",
       " <span ng-class=\"::{'rtl-in-ltr': ctrl.isArticleSourceRtlInLtrPage}\">\n",
       "                 한국경제\n",
       "               </span>,\n",
       " <span ng-class=\"::{'rtl-in-ltr': ctrl.isArticleTimeAgoRtlInLtrPage}\">\n",
       "                 10시간 전\n",
       "               </span>,\n",
       " <span ng-repeat=\"titlePart in titleArray\">\n",
       " <a href=\"/trends/explore?q=%EC%B1%94%EC%8A%A4&amp;date=now+7-d&amp;geo=KR\" ng-attr-title=\"{{::titlePart.hoverMessage}}\" ng-href=\"/trends/explore?q=%EC%B1%94%EC%8A%A4&amp;date=now+7-d&amp;geo=KR\" title=\"챔스 탐색\" track=\"['Trending Searches ' + ctrl.currentFeedItemType, 'click', 'item title: ' + titlePart.text]\">\n",
       "                 챔스\n",
       "               </a>\n",
       " <!-- -->\n",
       " </span>,\n",
       " <span ng-class=\"::{'rtl-in-ltr': ctrl.isArticleSourceRtlInLtrPage}\">\n",
       "                 스포츠한국\n",
       "               </span>,\n",
       " <span ng-class=\"::{'rtl-in-ltr': ctrl.isArticleTimeAgoRtlInLtrPage}\">\n",
       "                 1일 전\n",
       "               </span>,\n",
       " <span ng-repeat=\"titlePart in titleArray\">\n",
       " <a href=\"/trends/explore?q=%EC%82%AC%EC%9D%B4%ED%8D%BC%EC%A6%88&amp;date=now+7-d&amp;geo=KR\" ng-attr-title=\"{{::titlePart.hoverMessage}}\" ng-href=\"/trends/explore?q=%EC%82%AC%EC%9D%B4%ED%8D%BC%EC%A6%88&amp;date=now+7-d&amp;geo=KR\" title=\"사이퍼즈 탐색\" track=\"['Trending Searches ' + ctrl.currentFeedItemType, 'click', 'item title: ' + titlePart.text]\">\n",
       "                 사이퍼즈\n",
       "               </a>\n",
       " <!-- -->\n",
       " </span>,\n",
       " <span ng-class=\"::{'rtl-in-ltr': ctrl.isArticleSourceRtlInLtrPage}\">\n",
       "                 청년일보\n",
       "               </span>,\n",
       " <span ng-class=\"::{'rtl-in-ltr': ctrl.isArticleTimeAgoRtlInLtrPage}\">\n",
       "                 4시간 전\n",
       "               </span>,\n",
       " <span ng-repeat=\"titlePart in titleArray\">\n",
       " <a href=\"/trends/explore?q=%EB%AC%B8%EA%B2%BD%EC%B0%AC&amp;date=now+7-d&amp;geo=KR\" ng-attr-title=\"{{::titlePart.hoverMessage}}\" ng-href=\"/trends/explore?q=%EB%AC%B8%EA%B2%BD%EC%B0%AC&amp;date=now+7-d&amp;geo=KR\" title=\"문경찬 탐색\" track=\"['Trending Searches ' + ctrl.currentFeedItemType, 'click', 'item title: ' + titlePart.text]\">\n",
       "                 문경찬\n",
       "               </a>\n",
       " <!-- -->\n",
       " </span>,\n",
       " <span ng-class=\"::{'rtl-in-ltr': ctrl.isArticleSourceRtlInLtrPage}\">\n",
       "                 한국경제\n",
       "               </span>,\n",
       " <span ng-class=\"::{'rtl-in-ltr': ctrl.isArticleTimeAgoRtlInLtrPage}\">\n",
       "                 4시간 전\n",
       "               </span>,\n",
       " <span ng-repeat=\"titlePart in titleArray\">\n",
       " <a href=\"/trends/explore?q=%EC%9E%84%EC%B0%BD%EC%A0%95&amp;date=now+7-d&amp;geo=KR\" ng-attr-title=\"{{::titlePart.hoverMessage}}\" ng-href=\"/trends/explore?q=%EC%9E%84%EC%B0%BD%EC%A0%95&amp;date=now+7-d&amp;geo=KR\" title=\"임창정 탐색\" track=\"['Trending Searches ' + ctrl.currentFeedItemType, 'click', 'item title: ' + titlePart.text]\">\n",
       "                 임창정\n",
       "               </a>\n",
       " <!-- -->\n",
       " </span>,\n",
       " <span ng-class=\"::{'rtl-in-ltr': ctrl.isArticleSourceRtlInLtrPage}\">\n",
       "                 조선일보\n",
       "               </span>,\n",
       " <span ng-class=\"::{'rtl-in-ltr': ctrl.isArticleTimeAgoRtlInLtrPage}\">\n",
       "                 12시간 전\n",
       "               </span>,\n",
       " <span ng-repeat=\"titlePart in titleArray\">\n",
       " <a href=\"/trends/explore?q=%EC%84%A0%EB%AF%B8&amp;date=now+7-d&amp;geo=KR\" ng-attr-title=\"{{::titlePart.hoverMessage}}\" ng-href=\"/trends/explore?q=%EC%84%A0%EB%AF%B8&amp;date=now+7-d&amp;geo=KR\" title=\"선미 탐색\" track=\"['Trending Searches ' + ctrl.currentFeedItemType, 'click', 'item title: ' + titlePart.text]\">\n",
       "                 선미\n",
       "               </a>\n",
       " <!-- -->\n",
       " </span>,\n",
       " <span ng-class=\"::{'rtl-in-ltr': ctrl.isArticleSourceRtlInLtrPage}\">\n",
       "                 동아일보\n",
       "               </span>,\n",
       " <span ng-class=\"::{'rtl-in-ltr': ctrl.isArticleTimeAgoRtlInLtrPage}\">\n",
       "                 10시간 전\n",
       "               </span>,\n",
       " <span ng-repeat=\"titlePart in titleArray\">\n",
       " <a href=\"/trends/explore?q=%ED%83%9D%EB%B0%B0%EC%97%86%EB%8A%94%EB%82%A0&amp;date=now+7-d&amp;geo=KR\" ng-attr-title=\"{{::titlePart.hoverMessage}}\" ng-href=\"/trends/explore?q=%ED%83%9D%EB%B0%B0%EC%97%86%EB%8A%94%EB%82%A0&amp;date=now+7-d&amp;geo=KR\" title=\"택배없는날 탐색\" track=\"['Trending Searches ' + ctrl.currentFeedItemType, 'click', 'item title: ' + titlePart.text]\">\n",
       "                 택배없는날\n",
       "               </a>\n",
       " <!-- -->\n",
       " </span>,\n",
       " <span ng-class=\"::{'rtl-in-ltr': ctrl.isArticleSourceRtlInLtrPage}\">\n",
       "                 조선비즈\n",
       "               </span>,\n",
       " <span ng-class=\"::{'rtl-in-ltr': ctrl.isArticleTimeAgoRtlInLtrPage}\">\n",
       "                 11시간 전\n",
       "               </span>,\n",
       " <span ng-repeat=\"titlePart in titleArray\">\n",
       " <a href=\"/trends/explore?q=%EB%B8%94%EB%A6%AC%EC%B8%A0&amp;date=now+7-d&amp;geo=KR\" ng-attr-title=\"{{::titlePart.hoverMessage}}\" ng-href=\"/trends/explore?q=%EB%B8%94%EB%A6%AC%EC%B8%A0&amp;date=now+7-d&amp;geo=KR\" title=\"블리츠 탐색\" track=\"['Trending Searches ' + ctrl.currentFeedItemType, 'click', 'item title: ' + titlePart.text]\">\n",
       "                 블리츠\n",
       "               </a>\n",
       " <!-- -->\n",
       " </span>,\n",
       " <span ng-class=\"::{'rtl-in-ltr': ctrl.isArticleSourceRtlInLtrPage}\">\n",
       "                 중도일보\n",
       "               </span>,\n",
       " <span ng-class=\"::{'rtl-in-ltr': ctrl.isArticleTimeAgoRtlInLtrPage}\">\n",
       "                 7시간 전\n",
       "               </span>,\n",
       " <span ng-repeat=\"titlePart in titleArray\">\n",
       " <a href=\"/trends/explore?q=%EA%B3%B5%EC%A7%80%EC%98%81&amp;date=now+7-d&amp;geo=KR\" ng-attr-title=\"{{::titlePart.hoverMessage}}\" ng-href=\"/trends/explore?q=%EA%B3%B5%EC%A7%80%EC%98%81&amp;date=now+7-d&amp;geo=KR\" title=\"공지영 탐색\" track=\"['Trending Searches ' + ctrl.currentFeedItemType, 'click', 'item title: ' + titlePart.text]\">\n",
       "                 공지영\n",
       "               </a>\n",
       " <!-- -->\n",
       " </span>,\n",
       " <span ng-class=\"::{'rtl-in-ltr': ctrl.isArticleSourceRtlInLtrPage}\">\n",
       "                 동아일보\n",
       "               </span>,\n",
       " <span ng-class=\"::{'rtl-in-ltr': ctrl.isArticleTimeAgoRtlInLtrPage}\">\n",
       "                 4시간 전\n",
       "               </span>,\n",
       " <span ng-repeat=\"titlePart in titleArray\">\n",
       " <a href=\"/trends/explore?q=%EC%9E%84%EC%B0%BD%EC%A0%95+%EB%82%98%EC%9D%B4&amp;date=now+7-d&amp;geo=KR\" ng-attr-title=\"{{::titlePart.hoverMessage}}\" ng-href=\"/trends/explore?q=%EC%9E%84%EC%B0%BD%EC%A0%95+%EB%82%98%EC%9D%B4&amp;date=now+7-d&amp;geo=KR\" title=\"임창정 나이 탐색\" track=\"['Trending Searches ' + ctrl.currentFeedItemType, 'click', 'item title: ' + titlePart.text]\">\n",
       "                 임창정 나이\n",
       "               </a>\n",
       " <!-- -->\n",
       " </span>,\n",
       " <span ng-class=\"::{'rtl-in-ltr': ctrl.isArticleSourceRtlInLtrPage}\">\n",
       "                 조세금융신문\n",
       "               </span>,\n",
       " <span ng-class=\"::{'rtl-in-ltr': ctrl.isArticleTimeAgoRtlInLtrPage}\">\n",
       "                 5시간 전\n",
       "               </span>,\n",
       " <span ng-repeat=\"titlePart in titleArray\">\n",
       " <a href=\"/trends/explore?q=%EB%A1%9C%EC%8A%A4%ED%8A%B8%EC%95%84%ED%81%AC&amp;date=now+7-d&amp;geo=KR\" ng-attr-title=\"{{::titlePart.hoverMessage}}\" ng-href=\"/trends/explore?q=%EB%A1%9C%EC%8A%A4%ED%8A%B8%EC%95%84%ED%81%AC&amp;date=now+7-d&amp;geo=KR\" title=\"로스트아크 탐색\" track=\"['Trending Searches ' + ctrl.currentFeedItemType, 'click', 'item title: ' + titlePart.text]\">\n",
       "                 로스트아크\n",
       "               </a>\n",
       " <!-- -->\n",
       " </span>,\n",
       " <span ng-class=\"::{'rtl-in-ltr': ctrl.isArticleSourceRtlInLtrPage}\">\n",
       "                 게임인\n",
       "               </span>,\n",
       " <span ng-class=\"::{'rtl-in-ltr': ctrl.isArticleTimeAgoRtlInLtrPage}\">\n",
       "                 1일 전\n",
       "               </span>,\n",
       " <span ng-repeat=\"titlePart in titleArray\">\n",
       " <a href=\"/trends/explore?q=%EB%B4%84%EC%88%98%EC%97%B0&amp;date=now+7-d&amp;geo=KR\" ng-attr-title=\"{{::titlePart.hoverMessage}}\" ng-href=\"/trends/explore?q=%EB%B4%84%EC%88%98%EC%97%B0&amp;date=now+7-d&amp;geo=KR\" title=\"봄수연 탐색\" track=\"['Trending Searches ' + ctrl.currentFeedItemType, 'click', 'item title: ' + titlePart.text]\">\n",
       "                 봄수연\n",
       "               </a>\n",
       " <!-- -->\n",
       " </span>,\n",
       " <span ng-class=\"::{'rtl-in-ltr': ctrl.isArticleSourceRtlInLtrPage}\">\n",
       "                 서울경제\n",
       "               </span>,\n",
       " <span ng-class=\"::{'rtl-in-ltr': ctrl.isArticleTimeAgoRtlInLtrPage}\">\n",
       "                 11시간 전\n",
       "               </span>,\n",
       " <span ng-repeat=\"titlePart in titleArray\">\n",
       " <a href=\"/trends/explore?q=%EC%86%90%ED%98%9C%EC%9B%90&amp;date=now+7-d&amp;geo=KR\" ng-attr-title=\"{{::titlePart.hoverMessage}}\" ng-href=\"/trends/explore?q=%EC%86%90%ED%98%9C%EC%9B%90&amp;date=now+7-d&amp;geo=KR\" title=\"손혜원 탐색\" track=\"['Trending Searches ' + ctrl.currentFeedItemType, 'click', 'item title: ' + titlePart.text]\">\n",
       "                 손혜원\n",
       "               </a>\n",
       " <!-- -->\n",
       " </span>,\n",
       " <span ng-class=\"::{'rtl-in-ltr': ctrl.isArticleSourceRtlInLtrPage}\">\n",
       "                 동아일보\n",
       "               </span>,\n",
       " <span ng-class=\"::{'rtl-in-ltr': ctrl.isArticleTimeAgoRtlInLtrPage}\">\n",
       "                 18시간 전\n",
       "               </span>,\n",
       " <span ng-repeat=\"titlePart in titleArray\">\n",
       " <a href=\"/trends/explore?q=%EB%A5%98%ED%98%84%EC%A7%84&amp;date=now+7-d&amp;geo=KR\" ng-attr-title=\"{{::titlePart.hoverMessage}}\" ng-href=\"/trends/explore?q=%EB%A5%98%ED%98%84%EC%A7%84&amp;date=now+7-d&amp;geo=KR\" title=\"류현진 탐색\" track=\"['Trending Searches ' + ctrl.currentFeedItemType, 'click', 'item title: ' + titlePart.text]\">\n",
       "                 류현진\n",
       "               </a>\n",
       " <!-- -->\n",
       " </span>,\n",
       " <span ng-class=\"::{'rtl-in-ltr': ctrl.isArticleSourceRtlInLtrPage}\">\n",
       "                 한겨레\n",
       "               </span>,\n",
       " <span ng-class=\"::{'rtl-in-ltr': ctrl.isArticleTimeAgoRtlInLtrPage}\">\n",
       "                 1일 전\n",
       "               </span>,\n",
       " <span ng-repeat=\"titlePart in titleArray\">\n",
       " <a href=\"/trends/explore?q=%EC%88%99%EB%AA%85%EC%97%AC%EA%B3%A0+%EC%8C%8D%EB%91%A5%EC%9D%B4&amp;date=now+7-d&amp;geo=KR\" ng-attr-title=\"{{::titlePart.hoverMessage}}\" ng-href=\"/trends/explore?q=%EC%88%99%EB%AA%85%EC%97%AC%EA%B3%A0+%EC%8C%8D%EB%91%A5%EC%9D%B4&amp;date=now+7-d&amp;geo=KR\" title=\"숙명여고 쌍둥이 탐색\" track=\"['Trending Searches ' + ctrl.currentFeedItemType, 'click', 'item title: ' + titlePart.text]\">\n",
       "                 숙명여고 쌍둥이\n",
       "               </a>\n",
       " <!-- -->\n",
       " </span>,\n",
       " <span ng-class=\"::{'rtl-in-ltr': ctrl.isArticleSourceRtlInLtrPage}\">\n",
       "                 동아일보\n",
       "               </span>,\n",
       " <span ng-class=\"::{'rtl-in-ltr': ctrl.isArticleTimeAgoRtlInLtrPage}\">\n",
       "                 19시간 전\n",
       "               </span>,\n",
       " <span ng-repeat=\"titlePart in titleArray\">\n",
       " <a href=\"/trends/explore?q=SFTS&amp;date=now+7-d&amp;geo=KR\" ng-attr-title=\"{{::titlePart.hoverMessage}}\" ng-href=\"/trends/explore?q=SFTS&amp;date=now+7-d&amp;geo=KR\" title=\"SFTS 탐색\" track=\"['Trending Searches ' + ctrl.currentFeedItemType, 'click', 'item title: ' + titlePart.text]\">\n",
       "                 SFTS\n",
       "               </a>\n",
       " <!-- -->\n",
       " </span>,\n",
       " <span ng-class=\"::{'rtl-in-ltr': ctrl.isArticleSourceRtlInLtrPage}\">\n",
       "                 조선비즈\n",
       "               </span>,\n",
       " <span ng-class=\"::{'rtl-in-ltr': ctrl.isArticleTimeAgoRtlInLtrPage}\">\n",
       "                 1일 전\n",
       "               </span>,\n",
       " <span ng-repeat=\"titlePart in titleArray\">\n",
       " <a href=\"/trends/explore?q=%ED%95%9C%EC%84%9C%ED%9D%AC&amp;date=now+7-d&amp;geo=KR\" ng-attr-title=\"{{::titlePart.hoverMessage}}\" ng-href=\"/trends/explore?q=%ED%95%9C%EC%84%9C%ED%9D%AC&amp;date=now+7-d&amp;geo=KR\" title=\"한서희 탐색\" track=\"['Trending Searches ' + ctrl.currentFeedItemType, 'click', 'item title: ' + titlePart.text]\">\n",
       "                 한서희\n",
       "               </a>\n",
       " <!-- -->\n",
       " </span>,\n",
       " <span ng-class=\"::{'rtl-in-ltr': ctrl.isArticleSourceRtlInLtrPage}\">\n",
       "                 한국경제\n",
       "               </span>,\n",
       " <span ng-class=\"::{'rtl-in-ltr': ctrl.isArticleTimeAgoRtlInLtrPage}\">\n",
       "                 1일 전\n",
       "               </span>,\n",
       " <span ng-repeat=\"titlePart in titleArray\">\n",
       " <a href=\"/trends/explore?q=%EB%9F%AC%EC%8B%9C%EC%95%84+%EB%B0%B1%EC%8B%A0&amp;date=now+7-d&amp;geo=KR\" ng-attr-title=\"{{::titlePart.hoverMessage}}\" ng-href=\"/trends/explore?q=%EB%9F%AC%EC%8B%9C%EC%95%84+%EB%B0%B1%EC%8B%A0&amp;date=now+7-d&amp;geo=KR\" title=\"러시아 백신 탐색\" track=\"['Trending Searches ' + ctrl.currentFeedItemType, 'click', 'item title: ' + titlePart.text]\">\n",
       "                 러시아 백신\n",
       "               </a>\n",
       " <!-- -->\n",
       " </span>,\n",
       " <span ng-class=\"::{'rtl-in-ltr': ctrl.isArticleSourceRtlInLtrPage}\">\n",
       "                 한겨레\n",
       "               </span>,\n",
       " <span ng-class=\"::{'rtl-in-ltr': ctrl.isArticleTimeAgoRtlInLtrPage}\">\n",
       "                 21시간 전\n",
       "               </span>,\n",
       " <span ng-repeat=\"titlePart in titleArray\">\n",
       " <a href=\"/trends/explore?q=%EB%A1%9C%EC%8A%A4%ED%8A%B8%EC%95%84%ED%81%AC+%EC%8B%9C%EC%A6%8C2&amp;date=now+7-d&amp;geo=KR\" ng-attr-title=\"{{::titlePart.hoverMessage}}\" ng-href=\"/trends/explore?q=%EB%A1%9C%EC%8A%A4%ED%8A%B8%EC%95%84%ED%81%AC+%EC%8B%9C%EC%A6%8C2&amp;date=now+7-d&amp;geo=KR\" title=\"로스트아크 시즌2 탐색\" track=\"['Trending Searches ' + ctrl.currentFeedItemType, 'click', 'item title: ' + titlePart.text]\">\n",
       "                 로스트아크 시즌2\n",
       "               </a>\n",
       " <!-- -->\n",
       " </span>,\n",
       " <span ng-class=\"::{'rtl-in-ltr': ctrl.isArticleSourceRtlInLtrPage}\">\n",
       "                 게임플\n",
       "               </span>,\n",
       " <span ng-class=\"::{'rtl-in-ltr': ctrl.isArticleTimeAgoRtlInLtrPage}\">\n",
       "                 11시간 전\n",
       "               </span>]"
      ]
     },
     "execution_count": 12,
     "metadata": {},
     "output_type": "execute_result"
    }
   ],
   "source": [
    "rank = soup.find_all('span',class_=False)\n",
    "google_rank=list()\n",
    "rank"
   ]
  },
  {
   "cell_type": "code",
   "execution_count": 13,
   "metadata": {},
   "outputs": [
    {
     "data": {
      "text/plain": [
       "['\\n\\n                기안84\\n              \\n\\n',\n",
       " '\\n\\n                에픽게임즈\\n              \\n\\n',\n",
       " '\\n\\n                챔스\\n              \\n\\n',\n",
       " '\\n\\n                사이퍼즈\\n              \\n\\n',\n",
       " '\\n\\n                문경찬\\n              \\n\\n',\n",
       " '\\n\\n                임창정\\n              \\n\\n',\n",
       " '\\n\\n                선미\\n              \\n\\n',\n",
       " '\\n\\n                택배없는날\\n              \\n\\n',\n",
       " '\\n\\n                블리츠\\n              \\n\\n',\n",
       " '\\n\\n                공지영\\n              \\n\\n',\n",
       " '\\n\\n                임창정 나이\\n              \\n\\n',\n",
       " '\\n\\n                로스트아크\\n              \\n\\n',\n",
       " '\\n\\n                봄수연\\n              \\n\\n',\n",
       " '\\n\\n                손혜원\\n              \\n\\n',\n",
       " '\\n\\n                류현진\\n              \\n\\n',\n",
       " '\\n\\n                숙명여고 쌍둥이\\n              \\n\\n',\n",
       " '\\n\\n                SFTS\\n              \\n\\n',\n",
       " '\\n\\n                한서희\\n              \\n\\n',\n",
       " '\\n\\n                러시아 백신\\n              \\n\\n',\n",
       " '\\n\\n                로스트아크 시즌2\\n              \\n\\n']"
      ]
     },
     "execution_count": 13,
     "metadata": {},
     "output_type": "execute_result"
    }
   ],
   "source": [
    "google_rank = list()\n",
    "\n",
    "for i in range(2,62,3):\n",
    "    google_rank.append(rank[i].get_text())\n",
    "google_rank"
   ]
  },
  {
   "cell_type": "code",
   "execution_count": 14,
   "metadata": {},
   "outputs": [
    {
     "data": {
      "text/plain": [
       "['기안84',\n",
       " '에픽게임즈',\n",
       " '챔스',\n",
       " '사이퍼즈',\n",
       " '문경찬',\n",
       " '임창정',\n",
       " '선미',\n",
       " '택배없는날',\n",
       " '블리츠',\n",
       " '공지영',\n",
       " '임창정 나이']"
      ]
     },
     "execution_count": 14,
     "metadata": {},
     "output_type": "execute_result"
    }
   ],
   "source": [
    "google_rank = list()\n",
    "\n",
    "# for i in range(2,62,3):\n",
    "\n",
    "for i in range(2,33,3):\n",
    "    google_rank.append(rank[i].get_text().strip())\n",
    "#     google_rank.append(rank[i].get_text().replace('\\n              \\n\\n',''))\n",
    "google_rank"
   ]
  },
  {
   "cell_type": "code",
   "execution_count": 15,
   "metadata": {},
   "outputs": [
    {
     "data": {
      "text/plain": [
       "['기안84',\n",
       " '에픽게임즈',\n",
       " '챔스',\n",
       " '사이퍼즈',\n",
       " '문경찬',\n",
       " '임창정',\n",
       " '선미',\n",
       " '택배없는날',\n",
       " '블리츠',\n",
       " '공지영',\n",
       " '임창정 나이',\n",
       " 'X',\n",
       " 'X',\n",
       " 'X',\n",
       " 'X']"
      ]
     },
     "execution_count": 15,
     "metadata": {},
     "output_type": "execute_result"
    }
   ],
   "source": [
    "for i in range(1,5,1):\n",
    "    google_rank.append('X')\n",
    "google_rank"
   ]
  },
  {
   "cell_type": "code",
   "execution_count": 23,
   "metadata": {},
   "outputs": [],
   "source": [
    "html = open('soonseo.html','w')\n",
    "\n",
    "html.write('<body>')\n",
    "html.write('''\n",
    "    <table border=1>\n",
    "        <tr>\n",
    "            <th>순위</th>\n",
    "            <th>네이버_검색어</th>\n",
    "            <th>구글_검색어</th>\n",
    "        </tr>\n",
    "''')\n",
    "\n",
    "for i in range(1,16):\n",
    "    html.write('<tr>')\n",
    "    html.write(f'<td>{i}</td>')\n",
    "    html.write(f'<td>{naver_rank[i-1]}</td>')\n",
    "    html.write(f'<td>{google_rank[i-1]}</td>')\n",
    "    html.write('</tr>')\n",
    "\n",
    "html.write('</body>')\n",
    "html.write('</html>')\n",
    "html.close()"
   ]
  }
 ],
 "metadata": {
  "kernelspec": {
   "display_name": "Python 3",
   "language": "python",
   "name": "python3"
  },
  "language_info": {
   "codemirror_mode": {
    "name": "ipython",
    "version": 3
   },
   "file_extension": ".py",
   "mimetype": "text/x-python",
   "name": "python",
   "nbconvert_exporter": "python",
   "pygments_lexer": "ipython3",
   "version": "3.7.7"
  }
 },
 "nbformat": 4,
 "nbformat_minor": 4
}
